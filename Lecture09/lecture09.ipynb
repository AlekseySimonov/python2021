{
 "cells": [
  {
   "cell_type": "markdown",
   "metadata": {},
   "source": [
    "# Лекция 9. Последние штрихи\n",
    "\n",
    "* Исключения\n",
    "* Декораторы\n",
    "* Управление атрибутами"
   ]
  },
  {
   "cell_type": "markdown",
   "metadata": {},
   "source": [
    "# Исключения\n",
    "\n",
    "Мы уже знаем, как перехватывать исключения"
   ]
  },
  {
   "cell_type": "code",
   "execution_count": 31,
   "metadata": {},
   "outputs": [
    {
     "name": "stdout",
     "output_type": "stream",
     "text": [
      "Invalid operation\n",
      "FINALLY\n"
     ]
    }
   ],
   "source": [
    "try:\n",
    "    a = 1 / 0\n",
    "    \n",
    "except (ZeroDivisionError, AssertionError): # можно перечислить несколько\n",
    "    print(\"Invalid operation\")\n",
    "else:\n",
    "    # а это будет выполнено только если исключения внутри try не возникли\n",
    "    print(\"ELSE\")\n",
    "finally:\n",
    "    # этот блок будет всегда выполнен\n",
    "    print(\"FINALLY\")"
   ]
  },
  {
   "cell_type": "markdown",
   "metadata": {},
   "source": [
    "Генерировать исключения тоже легко. Это можно сделать с помощью оператора `raise`\n",
    "\n",
    "> `raise <ExceptionClass>` - данный оператор создает исключение, которое может быть перехвачено обработчиком, написанным программистом. В противном случае, данное исключение будет перехвачено стандартным обработчиком и приведет к остановке программы. Если использовать оператор `raise` без аргумента, то будет повторно сгенерировано самое последнее исключение."
   ]
  },
  {
   "cell_type": "code",
   "execution_count": 2,
   "metadata": {},
   "outputs": [
    {
     "name": "stdout",
     "output_type": "stream",
     "text": [
      "Invalid operation \n"
     ]
    }
   ],
   "source": [
    "try:\n",
    "    # можно указать класс (будет создан экземпляр)\n",
    "    raise ZeroDivisionError\n",
    "    # а можно указать экземпляр, тогда будет возвращен этот экземпляр\n",
    "    raise ZeroDivisionError()\n",
    "except (ZeroDivisionError, AssertionError) as e:\n",
    "    print(\"Invalid operation\", e)"
   ]
  },
  {
   "cell_type": "code",
   "execution_count": 3,
   "metadata": {},
   "outputs": [
    {
     "name": "stdout",
     "output_type": "stream",
     "text": [
      "Got ZeroDivisionError\n"
     ]
    },
    {
     "ename": "ZeroDivisionError",
     "evalue": "",
     "output_type": "error",
     "traceback": [
      "\u001b[0;31m---------------------------------------------------------------------------\u001b[0m",
      "\u001b[0;31mZeroDivisionError\u001b[0m                         Traceback (most recent call last)",
      "\u001b[0;32m<ipython-input-3-bf011b08f0fe>\u001b[0m in \u001b[0;36m<module>\u001b[0;34m\u001b[0m\n\u001b[1;32m      1\u001b[0m \u001b[0;32mtry\u001b[0m\u001b[0;34m:\u001b[0m\u001b[0;34m\u001b[0m\u001b[0;34m\u001b[0m\u001b[0m\n\u001b[0;32m----> 2\u001b[0;31m     \u001b[0;32mraise\u001b[0m \u001b[0mZeroDivisionError\u001b[0m\u001b[0;34m\u001b[0m\u001b[0;34m\u001b[0m\u001b[0m\n\u001b[0m\u001b[1;32m      3\u001b[0m \u001b[0;32mexcept\u001b[0m \u001b[0mZeroDivisionError\u001b[0m\u001b[0;34m:\u001b[0m\u001b[0;34m\u001b[0m\u001b[0;34m\u001b[0m\u001b[0m\n\u001b[1;32m      4\u001b[0m     \u001b[0mprint\u001b[0m\u001b[0;34m(\u001b[0m\u001b[0;34m\"Got ZeroDivisionError\"\u001b[0m\u001b[0;34m)\u001b[0m\u001b[0;34m\u001b[0m\u001b[0;34m\u001b[0m\u001b[0m\n\u001b[1;32m      5\u001b[0m     \u001b[0;32mraise\u001b[0m\u001b[0;34m\u001b[0m\u001b[0;34m\u001b[0m\u001b[0m\n",
      "\u001b[0;31mZeroDivisionError\u001b[0m: "
     ]
    }
   ],
   "source": [
    "try:\n",
    "    raise ZeroDivisionError\n",
    "except ZeroDivisionError:\n",
    "    print(\"Got ZeroDivisionError\")\n",
    "    raise"
   ]
  },
  {
   "cell_type": "markdown",
   "metadata": {},
   "source": [
    "Также есть возможность условной генерации исключений с помощью оператора `assert`, который часто используется для отладки на стадии разработки\n",
    "\n",
    "> `assert <condition> [, <data>]` - позволяет генерировать исключения, если какое-то условие не выполняется. "
   ]
  },
  {
   "cell_type": "code",
   "execution_count": 9,
   "metadata": {},
   "outputs": [
    {
     "name": "stdout",
     "output_type": "stream",
     "text": [
      "ASSERT: FAIL\n"
     ]
    }
   ],
   "source": [
    "# Срабатывает, если не выполнении условия\n",
    "\n",
    "try:\n",
    "    # все ок\n",
    "    assert 5 > 2\n",
    "\n",
    "    # все плохо\n",
    "    assert 5 < 2, 'FAIL'\n",
    "    \n",
    "    # Эквивалентно\n",
    "    if not(5 < 2):\n",
    "        raise AssertionError(\"FAIL\")\n",
    "        \n",
    "except AssertionError as e:\n",
    "    print(\"ASSERT:\", e)"
   ]
  },
  {
   "cell_type": "markdown",
   "metadata": {},
   "source": [
    "Есть также универсальный класс исключений **Exception**"
   ]
  },
  {
   "cell_type": "code",
   "execution_count": 6,
   "metadata": {},
   "outputs": [
    {
     "name": "stdout",
     "output_type": "stream",
     "text": [
      "('item', 1, 3)\n",
      "item 1\n"
     ]
    }
   ],
   "source": [
    "try:\n",
    "    raise Exception(\"item\", 1, 3)\n",
    "        \n",
    "except Exception as e:\n",
    "    print(e)\n",
    "    print(e.args[0], e.args[1])"
   ]
  },
  {
   "cell_type": "markdown",
   "metadata": {
    "tags": []
   },
   "source": [
    "## Создание своих исключений\n",
    "\n",
    "Выше мы использовали встроенные исключения. Python также позволяет программисту создавать собственные уникальные исключения."
   ]
  },
  {
   "cell_type": "code",
   "execution_count": 206,
   "metadata": {},
   "outputs": [],
   "source": [
    "# Нам нужно просто отнаследоваться от базового класса для исключений\n",
    "\n",
    "class MyOwnCrazyException(Exception): pass"
   ]
  },
  {
   "cell_type": "code",
   "execution_count": 207,
   "metadata": {},
   "outputs": [
    {
     "name": "stdout",
     "output_type": "stream",
     "text": [
      "My Exception\n",
      "('FAIL',)\n"
     ]
    }
   ],
   "source": [
    "try:\n",
    "    raise MyOwnCrazyException(\"FAIL\")\n",
    "except MyOwnCrazyException as e:\n",
    "    print(\"My Exception\")\n",
    "    print(e.args)"
   ]
  },
  {
   "cell_type": "code",
   "execution_count": 19,
   "metadata": {},
   "outputs": [],
   "source": [
    "# или вариант посложнее\n",
    "\n",
    "class MyOwnCrazyException2(Exception):\n",
    "    def __init__(self, *args, **kargs):\n",
    "        super().__init__(*args, **kargs)\n",
    "        \n",
    "    def __str__(self):\n",
    "        return \"[MyOwnCrazyException2]: \" + \", \".join([str(arg) for arg in self.args])\n",
    "    \n",
    "    def __repr__(self):\n",
    "        return self.__str__()"
   ]
  },
  {
   "cell_type": "code",
   "execution_count": 20,
   "metadata": {},
   "outputs": [
    {
     "name": "stdout",
     "output_type": "stream",
     "text": [
      "[MyOwnCrazyException2]: 1, 4, [3.4]\n"
     ]
    }
   ],
   "source": [
    "try:\n",
    "    raise MyOwnCrazyException2(\"1\", \"4\", [3.4])\n",
    "except MyOwnCrazyException2 as e:\n",
    "    print(e)"
   ]
  },
  {
   "cell_type": "markdown",
   "metadata": {},
   "source": [
    "## Иерархия исключений\n",
    "\n",
    "Исключения образуют иерархию, что позволяет перехватывать исключения по их предку, а не по конкретному типу исключения. \n",
    "\n",
    "Все исключения наследуются от `BaseException`. Класс `Exception` также наследуется от этого класса. "
   ]
  },
  {
   "cell_type": "code",
   "execution_count": 57,
   "metadata": {},
   "outputs": [
    {
     "name": "stdout",
     "output_type": "stream",
     "text": [
      "FAIL\n"
     ]
    }
   ],
   "source": [
    "class MyException(Exception): pass\n",
    "\n",
    "\n",
    "try:\n",
    "    raise MyException(\"FAIL\")\n",
    "except Exception as e:\n",
    "    print(e)"
   ]
  },
  {
   "cell_type": "markdown",
   "metadata": {},
   "source": [
    "Это очень удобно для формирования категорий исключений"
   ]
  },
  {
   "cell_type": "code",
   "execution_count": 214,
   "metadata": {},
   "outputs": [
    {
     "name": "stdout",
     "output_type": "stream",
     "text": [
      "Exception:  ZeroDivisionError()\n"
     ]
    }
   ],
   "source": [
    "class GeneralError(Exception): pass\n",
    "\n",
    "class IOError(GeneralError): pass\n",
    "class InvalidOperationError(GeneralError): pass\n",
    "class ConnectionError(GeneralError): pass\n",
    "\n",
    "try:\n",
    "    # Наше исключение\n",
    "    #raise ConnectionError\n",
    "    \n",
    "    # Встроенное\n",
    "    # raise ZeroDivisionError\n",
    "    \n",
    "    # Специальное встроенное\n",
    "    raise SystemExit\n",
    "except GeneralError as e:\n",
    "    print(\"Custom exception: \", repr(e))\n",
    "except Exception as e:\n",
    "    print(\"Exception: \", repr(e))\n",
    "except BaseException as e:\n",
    "    print(\"BaseException: \", repr(e))\n",
    "    raise\n",
    "except:\n",
    "    print(\"Unknown exception\")"
   ]
  },
  {
   "cell_type": "markdown",
   "metadata": {},
   "source": [
    "# Декораторы\n",
    "\n",
    "> __Декораторы__ - это довольно изящный способ указания дополнительного управляющего или дополняющего кода для функций и классов.\n",
    " \n",
    "Создать декоратор довольно просто - это обычная функция/класс, которая получает исполняемый объект и затем возвращает также исполняемый объект."
   ]
  },
  {
   "cell_type": "code",
   "execution_count": 6,
   "metadata": {},
   "outputs": [],
   "source": [
    "# простейший декоратор, который ничего не делает\n",
    "def decorator(F):\n",
    "    return F\n",
    "\n",
    "# простейший декоратор, который ничего не делает\n",
    "class decorator:\n",
    "    def __init__(self, F):\n",
    "        self.F = F\n",
    "    def __call__(self, *args, **kargs):\n",
    "        return self.F(*args, **kargs)  "
   ]
  },
  {
   "cell_type": "markdown",
   "metadata": {},
   "source": [
    "Использовать декоратор также легко, для этого используется символ `@`"
   ]
  },
  {
   "cell_type": "code",
   "execution_count": 7,
   "metadata": {},
   "outputs": [
    {
     "name": "stdout",
     "output_type": "stream",
     "text": [
      "hi\n"
     ]
    }
   ],
   "source": [
    "@decorator\n",
    "def my_function(arg):\n",
    "    print(arg)\n",
    "    \n",
    "my_function(\"hi\")"
   ]
  },
  {
   "cell_type": "markdown",
   "metadata": {},
   "source": [
    "Что эквивалентно"
   ]
  },
  {
   "cell_type": "code",
   "execution_count": 85,
   "metadata": {},
   "outputs": [
    {
     "name": "stdout",
     "output_type": "stream",
     "text": [
      "hi\n"
     ]
    }
   ],
   "source": [
    "def my_function(arg):\n",
    "    print(arg)\n",
    "    \n",
    "my_function = decorator(my_function)\n",
    "\n",
    "my_function(\"hi\")"
   ]
  },
  {
   "cell_type": "markdown",
   "metadata": {},
   "source": [
    "## Примеры"
   ]
  },
  {
   "cell_type": "code",
   "execution_count": 21,
   "metadata": {},
   "outputs": [
    {
     "data": {
      "text/plain": [
       "'1111'"
      ]
     },
     "execution_count": 23,
     "metadata": {},
     "output_type": "execute_result"
    }
   ],
   "source": [
    "# Декоратор, который умножает аргументы на 2\n",
    "\n",
    "def x2arg(F):\n",
    "    def wrapper(*args, **kargs):\n",
    "        nargs = [2*arg for arg in args]\n",
    "        nkargs = {k:2*v for k, v in kargs.items()}\n",
    "        return F(*nargs, **nkargs)\n",
    "    return wrapper\n",
    "\n",
    "@x2arg\n",
    "def Add(a, b):\n",
    "    return a + b\n",
    "    \n",
    "Add(1, 1)"
   ]
  },
  {
   "cell_type": "code",
   "execution_count": 24,
   "metadata": {},
   "outputs": [
    {
     "data": {
      "text/plain": [
       "8"
      ]
     },
     "execution_count": 24,
     "metadata": {},
     "output_type": "execute_result"
    }
   ],
   "source": [
    "# а можно несколько раз\n",
    "\n",
    "@x2arg\n",
    "@x2arg\n",
    "def Add(a, b):\n",
    "    return a + b\n",
    "\n",
    "Add(1, 1)"
   ]
  },
  {
   "cell_type": "code",
   "execution_count": 25,
   "metadata": {},
   "outputs": [
    {
     "name": "stdout",
     "output_type": "stream",
     "text": [
      "0\n",
      "1\n",
      "2\n",
      "3\n",
      "4\n"
     ]
    }
   ],
   "source": [
    "class counter:\n",
    "    \"\"\"\n",
    "        Декоратор-класс, который считает вызовы функции\n",
    "    \"\"\"\n",
    "    def __init__(self, F):\n",
    "        self.F = F\n",
    "        self.counter = 0\n",
    "        \n",
    "    def __call__(self, *args, **kargs):\n",
    "        self.counter += 1\n",
    "        return self.F(*args, **kargs)\n",
    " \n",
    "@counter\n",
    "def Add(a, b):\n",
    "    return a + b\n",
    "\n",
    "\n",
    "Add = counter(Add)\n",
    "\n",
    "print(Add.counter)\n",
    "\n",
    "Add(1, 1)\n",
    "print(Add.counter)\n",
    "\n",
    "Add(1, 1)\n",
    "print(Add.counter)\n",
    "\n",
    "Add(1, 1)\n",
    "print(Add.counter)\n",
    "\n",
    "Add(1, 1)\n",
    "print(Add.counter)"
   ]
  },
  {
   "cell_type": "markdown",
   "metadata": {},
   "source": [
    "## Декораторы с параметрами\n",
    "\n",
    "Можно создавать декораторы с параметрами, если помнить, как именно происходит вызов декоратора на самом деле. "
   ]
  },
  {
   "cell_type": "code",
   "execution_count": 26,
   "metadata": {},
   "outputs": [
    {
     "data": {
      "text/plain": [
       "10"
      ]
     },
     "execution_count": 26,
     "metadata": {},
     "output_type": "execute_result"
    }
   ],
   "source": [
    "def xArg(mul):\n",
    "    def xArgDecorator(F):\n",
    "        def wrapper(*args, **kargs):\n",
    "            nargs = [mul*arg for arg in args]\n",
    "            nkargs = {k:mul*v for k, v in kargs.items()}\n",
    "            return F(*nargs, **nkargs)\n",
    "        return wrapper\n",
    "    return xArgDecorator\n",
    "\n",
    "@xArg(5)\n",
    "def Add(a, b):\n",
    "    return a + b\n",
    "\n",
    "Add(1, 1)"
   ]
  },
  {
   "cell_type": "markdown",
   "metadata": {},
   "source": [
    "Это эквивалентно"
   ]
  },
  {
   "cell_type": "code",
   "execution_count": 95,
   "metadata": {},
   "outputs": [
    {
     "data": {
      "text/plain": [
       "10"
      ]
     },
     "execution_count": 95,
     "metadata": {},
     "output_type": "execute_result"
    }
   ],
   "source": [
    "def Add(a, b):\n",
    "    return a + b\n",
    "\n",
    "Add = xArg(5)(Add)\n",
    "Add(1, 1)"
   ]
  },
  {
   "cell_type": "markdown",
   "metadata": {},
   "source": [
    "## Декораторы классов\n",
    "\n",
    "Декорировать классы немного хитрее. Пример ошибочной реализации"
   ]
  },
  {
   "cell_type": "code",
   "execution_count": 27,
   "metadata": {},
   "outputs": [
    {
     "name": "stdout",
     "output_type": "stream",
     "text": [
      "decorator was created\n",
      "X =  Test (1, 2, 3)\n",
      "\n",
      "X =  Test (5, 4, 5)\n",
      "Y =  Test (5, 4, 5)\n"
     ]
    }
   ],
   "source": [
    "# ЭТО РАБОТАТЬ АДЕКВАТНО НЕ БУДЕТ\n",
    "\n",
    "class decorator:\n",
    "    def __init__(self, cls):\n",
    "        print(\"decorator was created\")\n",
    "        self.C = cls\n",
    "        \n",
    "    # перехватываем вызов, чтобы создать экземпляр класса\n",
    "    def __call__(self, *args, **kargs):\n",
    "        self.instance = self.C(*args, **kargs)\n",
    "        self.instance.args = args\n",
    "        return self\n",
    "    \n",
    "    def __getattr__(self, attrname):\n",
    "        return getattr(self.instance, attrname)\n",
    "  \n",
    "\n",
    "@decorator\n",
    "class Test:\n",
    "    def __init__(self, *arg, **kargs):\n",
    "        self.X = \"Test\"\n",
    "# эквивалентно\n",
    "# Test = decorator(Test)\n",
    "\n",
    "x = Test(1, 2, 3)\n",
    "print(\"X = \", x.X, x.args)\n",
    "print()\n",
    "\n",
    "# а здесь мы перезапишем x, хотя казалось бы, что не должны\n",
    "y = Test(5, 4, 5)\n",
    "print(\"X = \", x.X, x.args)\n",
    "print(\"Y = \", y.X, y.args)"
   ]
  },
  {
   "cell_type": "markdown",
   "metadata": {},
   "source": [
    "Правильный путь - это создавать каждый раз объект-обертку"
   ]
  },
  {
   "cell_type": "code",
   "execution_count": 116,
   "metadata": {},
   "outputs": [
    {
     "name": "stdout",
     "output_type": "stream",
     "text": [
      "X =  Test (1, 2, 3)\n",
      "\n",
      "X =  Test (1, 2, 3)\n",
      "Y =  Test (5, 4, 5)\n"
     ]
    }
   ],
   "source": [
    "def decorator(cls):\n",
    "    class Wrapper:\n",
    "        def __init__(self, *args, **kargs):\n",
    "            self.instance = cls(*args, **kargs)\n",
    "            self.instance.args = args\n",
    "        def __getattr__(self, attrname):\n",
    "            return getattr(self.instance, attrname)\n",
    "    return Wrapper\n",
    "\n",
    "\n",
    "# Здесь мы подменяем один класс другим классом\n",
    "@decorator\n",
    "class Test:\n",
    "    def __init__(self, *arg, **kargs):\n",
    "        self.X = \"Test\"\n",
    "# эквивалентно\n",
    "# Test = decorator(Test)\n",
    "\n",
    "x = Test(1, 2, 3)\n",
    "print(\"X = \", x.X, x.args)\n",
    "print()\n",
    "\n",
    "# Теперь ок\n",
    "y = Test(5, 4, 5)\n",
    "print(\"X = \", x.X, x.args)\n",
    "print(\"Y = \", y.X, y.args)"
   ]
  },
  {
   "cell_type": "code",
   "execution_count": 120,
   "metadata": {},
   "outputs": [
    {
     "name": "stdout",
     "output_type": "stream",
     "text": [
      "X =  Test (1, 2, 3)\n",
      "\n",
      "X =  Test (1, 2, 3)\n",
      "Y =  Test (5, 4, 5)\n"
     ]
    }
   ],
   "source": [
    "# А можно сделать так, мы создаем класс-фасад, который \n",
    "# принимает готовый экземпляр\n",
    "\n",
    "class Wrapper:\n",
    "    def __init__(self, instance):\n",
    "        self.instance = instance\n",
    "    def __getattr__(self, attrname):\n",
    "        return getattr(self.instance, attrname)\n",
    "    \n",
    "def decorator(cls):\n",
    "    def onCall(*args, **kargs):\n",
    "        instance = cls(*args, **kargs)\n",
    "        instance.args = args\n",
    "        return Wrapper(instance)\n",
    "    return onCall\n",
    "\n",
    "\n",
    "@decorator\n",
    "class Test:\n",
    "    def __init__(self, *arg, **kargs):\n",
    "        self.X = \"Test\"\n",
    "        \n",
    "x = Test(1, 2, 3)\n",
    "print(\"X = \", x.X, x.args)\n",
    "print()\n",
    "\n",
    "# Теперь ок\n",
    "y = Test(5, 4, 5)\n",
    "print(\"X = \", x.X, x.args)\n",
    "print(\"Y = \", y.X, y.args)"
   ]
  },
  {
   "cell_type": "markdown",
   "metadata": {},
   "source": [
    "# Управление атрибутами\n",
    "\n",
    "> `getattr(obj, attrname)` - функция, которая позволяет получить атрибут объекта по его имени\n",
    "\n",
    "> `setattr(obj, attrname, value)` - функция, которая устанавливает значение атрибута объекта по его имени"
   ]
  },
  {
   "cell_type": "code",
   "execution_count": 139,
   "metadata": {},
   "outputs": [
    {
     "name": "stdout",
     "output_type": "stream",
     "text": [
      "13\n",
      "13\n"
     ]
    }
   ],
   "source": [
    "class Test: pass\n",
    "\n",
    "a = Test()\n",
    "\n",
    "setattr(a, \"X\", 13)\n",
    "# a.X = 13\n",
    "\n",
    "# Оба вызова эквивалентны\n",
    "print(a.X)\n",
    "print(getattr(a, \"X\"))"
   ]
  },
  {
   "cell_type": "markdown",
   "metadata": {},
   "source": [
    "При создании объектов можно перегрузить специальные методы, которые отвечают за доступ к необъявленным атрибутам класса"
   ]
  },
  {
   "cell_type": "markdown",
   "metadata": {},
   "source": [
    "> `__getattr__(self, attrname)` - перехват доступа к необъявленым атрибутам для получения данных\n",
    "\n",
    "> `__getattribute__(self, attrname)` - перехват доступа к любым атрибутам для получения данных\n",
    "\n",
    "> `__setattr__(self, attrname, value)` - установка значения для атрибута"
   ]
  },
  {
   "cell_type": "markdown",
   "metadata": {},
   "source": [
    "Работа с данным методами позволяет управлять доступ к различного рода атрибутом или даже создавать видимость их существования"
   ]
  },
  {
   "cell_type": "code",
   "execution_count": 28,
   "metadata": {},
   "outputs": [],
   "source": [
    "class Test:\n",
    "    def __getattr__(self, attrname):\n",
    "        print(\"__getattr__\")\n",
    "\n",
    "        if attrname == \"Exception\":\n",
    "            raise AttributeError\n",
    "        else:\n",
    "            return 20\n",
    "    \n",
    "    def __setattr__(self, attrname, value):\n",
    "        print(\"set [%s] - %s\" % (attrname, value))\n",
    "        \n",
    "a = Test()"
   ]
  },
  {
   "cell_type": "code",
   "execution_count": 29,
   "metadata": {},
   "outputs": [
    {
     "name": "stdout",
     "output_type": "stream",
     "text": [
      "__getattr__\n"
     ]
    },
    {
     "data": {
      "text/plain": [
       "20"
      ]
     },
     "execution_count": 30,
     "metadata": {},
     "output_type": "execute_result"
    }
   ],
   "source": [
    "a.Age"
   ]
  },
  {
   "cell_type": "code",
   "execution_count": 31,
   "metadata": {},
   "outputs": [
    {
     "name": "stdout",
     "output_type": "stream",
     "text": [
      "__getattr__\n"
     ]
    },
    {
     "ename": "AttributeError",
     "evalue": "",
     "output_type": "error",
     "traceback": [
      "\u001b[0;31m---------------------------------------------------------------------------\u001b[0m",
      "\u001b[0;31mAttributeError\u001b[0m                            Traceback (most recent call last)",
      "\u001b[0;32m<ipython-input-31-43ae71662481>\u001b[0m in \u001b[0;36m<module>\u001b[0;34m\u001b[0m\n\u001b[0;32m----> 1\u001b[0;31m \u001b[0ma\u001b[0m\u001b[0;34m.\u001b[0m\u001b[0mException\u001b[0m\u001b[0;34m\u001b[0m\u001b[0;34m\u001b[0m\u001b[0m\n\u001b[0m",
      "\u001b[0;32m<ipython-input-28-e662b99fa943>\u001b[0m in \u001b[0;36m__getattr__\u001b[0;34m(self, attrname)\u001b[0m\n\u001b[1;32m      4\u001b[0m \u001b[0;34m\u001b[0m\u001b[0m\n\u001b[1;32m      5\u001b[0m         \u001b[0;32mif\u001b[0m \u001b[0mattrname\u001b[0m \u001b[0;34m==\u001b[0m \u001b[0;34m\"Exception\"\u001b[0m\u001b[0;34m:\u001b[0m\u001b[0;34m\u001b[0m\u001b[0;34m\u001b[0m\u001b[0m\n\u001b[0;32m----> 6\u001b[0;31m             \u001b[0;32mraise\u001b[0m \u001b[0mAttributeError\u001b[0m\u001b[0;34m\u001b[0m\u001b[0;34m\u001b[0m\u001b[0m\n\u001b[0m\u001b[1;32m      7\u001b[0m         \u001b[0;32melse\u001b[0m\u001b[0;34m:\u001b[0m\u001b[0;34m\u001b[0m\u001b[0;34m\u001b[0m\u001b[0m\n\u001b[1;32m      8\u001b[0m             \u001b[0;32mreturn\u001b[0m \u001b[0;36m20\u001b[0m\u001b[0;34m\u001b[0m\u001b[0;34m\u001b[0m\u001b[0m\n",
      "\u001b[0;31mAttributeError\u001b[0m: "
     ]
    }
   ],
   "source": [
    "a.Exception"
   ]
  },
  {
   "cell_type": "code",
   "execution_count": 32,
   "metadata": {},
   "outputs": [
    {
     "name": "stdout",
     "output_type": "stream",
     "text": [
      "set [Weight] - 1\n",
      "set [Age] - 1\n"
     ]
    }
   ],
   "source": [
    "a.Weight = 1\n",
    "a.Age = 1"
   ]
  },
  {
   "cell_type": "code",
   "execution_count": 33,
   "metadata": {},
   "outputs": [
    {
     "name": "stdout",
     "output_type": "stream",
     "text": [
      "__getattr__\n"
     ]
    },
    {
     "data": {
      "text/plain": [
       "20"
      ]
     },
     "execution_count": 33,
     "metadata": {},
     "output_type": "execute_result"
    }
   ],
   "source": [
    "a.Age"
   ]
  },
  {
   "cell_type": "code",
   "execution_count": 12,
   "metadata": {},
   "outputs": [
    {
     "name": "stdout",
     "output_type": "stream",
     "text": [
      "Hi\n",
      "set [Var] - 123\n"
     ]
    }
   ],
   "source": [
    "# НО! Здесь вызов данных методов не происходит\n",
    "\n",
    "a.__dict__[\"Var\"] = \"Hi\"\n",
    "print(a.Var)\n",
    "\n",
    "# setattr продолжает ничего не делать\n",
    "a.Var = 123"
   ]
  },
  {
   "cell_type": "code",
   "execution_count": 13,
   "metadata": {},
   "outputs": [
    {
     "data": {
      "text/plain": [
       "'Hi'"
      ]
     },
     "execution_count": 13,
     "metadata": {},
     "output_type": "execute_result"
    }
   ],
   "source": [
    "# а вот getattr перестал работать\n",
    "a.Var"
   ]
  },
  {
   "cell_type": "markdown",
   "metadata": {},
   "source": [
    "__Важно!__ При реализации метода `__setattr__` важно не использовать присваивание атрибутам, так как это приведет к зацикливанию кода"
   ]
  },
  {
   "cell_type": "code",
   "execution_count": 34,
   "metadata": {},
   "outputs": [
    {
     "data": {
      "text/plain": [
       "5"
      ]
     },
     "execution_count": 34,
     "metadata": {},
     "output_type": "execute_result"
    }
   ],
   "source": [
    "class Test:\n",
    "    def __setattr__(self, attrname, value):\n",
    "        self.__dict__[attrname] = value\n",
    "        # а вот это бы привело к зацикливанию\n",
    "        # self.attrname = value\n",
    "\n",
    "a = Test()\n",
    "a.Attr = 5\n",
    "a.Attr"
   ]
  },
  {
   "cell_type": "markdown",
   "metadata": {},
   "source": [
    "## Свойства\n",
    "\n",
    "Python предоставляет удобный способ контроллируемого доступа к атрибутам объекта\n",
    "\n",
    "> `property(getter, setter, deleter, docstring)` - данная функция позволяет создать атрибут-свойство. В качестве отсутствия обработчика на соответствующее действие можно передать None"
   ]
  },
  {
   "cell_type": "code",
   "execution_count": 40,
   "metadata": {},
   "outputs": [],
   "source": [
    "class Test:        \n",
    "    def get_age(self):\n",
    "        return self._age\n",
    "    \n",
    "    def set_age(self, value):\n",
    "        if value < 0:\n",
    "            raise ValueError\n",
    "        self._age = value\n",
    "        \n",
    "    def del_age(self):\n",
    "        del self._age\n",
    "        \n",
    "    age = property(get_age, set_age, del_age, \"It is age\")\n",
    "    \n",
    "a = Test()"
   ]
  },
  {
   "cell_type": "code",
   "execution_count": 41,
   "metadata": {},
   "outputs": [
    {
     "ename": "AttributeError",
     "evalue": "'Test' object has no attribute '_age'",
     "output_type": "error",
     "traceback": [
      "\u001b[0;31m---------------------------------------------------------------------------\u001b[0m",
      "\u001b[0;31mAttributeError\u001b[0m                            Traceback (most recent call last)",
      "\u001b[0;32m<ipython-input-41-881317a2e3d0>\u001b[0m in \u001b[0;36m<module>\u001b[0;34m\u001b[0m\n\u001b[0;32m----> 1\u001b[0;31m \u001b[0ma\u001b[0m\u001b[0;34m.\u001b[0m\u001b[0mage\u001b[0m\u001b[0;34m\u001b[0m\u001b[0;34m\u001b[0m\u001b[0m\n\u001b[0m",
      "\u001b[0;32m<ipython-input-40-c09607947ec8>\u001b[0m in \u001b[0;36mget_age\u001b[0;34m(self)\u001b[0m\n\u001b[1;32m      1\u001b[0m \u001b[0;32mclass\u001b[0m \u001b[0mTest\u001b[0m\u001b[0;34m:\u001b[0m\u001b[0;34m\u001b[0m\u001b[0;34m\u001b[0m\u001b[0m\n\u001b[1;32m      2\u001b[0m     \u001b[0;32mdef\u001b[0m \u001b[0mget_age\u001b[0m\u001b[0;34m(\u001b[0m\u001b[0mself\u001b[0m\u001b[0;34m)\u001b[0m\u001b[0;34m:\u001b[0m\u001b[0;34m\u001b[0m\u001b[0;34m\u001b[0m\u001b[0m\n\u001b[0;32m----> 3\u001b[0;31m         \u001b[0;32mreturn\u001b[0m \u001b[0mself\u001b[0m\u001b[0;34m.\u001b[0m\u001b[0m_age\u001b[0m\u001b[0;34m\u001b[0m\u001b[0;34m\u001b[0m\u001b[0m\n\u001b[0m\u001b[1;32m      4\u001b[0m \u001b[0;34m\u001b[0m\u001b[0m\n\u001b[1;32m      5\u001b[0m     \u001b[0;32mdef\u001b[0m \u001b[0mset_age\u001b[0m\u001b[0;34m(\u001b[0m\u001b[0mself\u001b[0m\u001b[0;34m,\u001b[0m \u001b[0mvalue\u001b[0m\u001b[0;34m)\u001b[0m\u001b[0;34m:\u001b[0m\u001b[0;34m\u001b[0m\u001b[0;34m\u001b[0m\u001b[0m\n",
      "\u001b[0;31mAttributeError\u001b[0m: 'Test' object has no attribute '_age'"
     ]
    }
   ],
   "source": [
    "a.age"
   ]
  },
  {
   "cell_type": "code",
   "execution_count": 44,
   "metadata": {},
   "outputs": [
    {
     "data": {
      "text/plain": [
       "(20, 20)"
      ]
     },
     "execution_count": 44,
     "metadata": {},
     "output_type": "execute_result"
    }
   ],
   "source": [
    "a.age = 20\n",
    "a.age, a._age"
   ]
  },
  {
   "cell_type": "code",
   "execution_count": 45,
   "metadata": {},
   "outputs": [
    {
     "ename": "AttributeError",
     "evalue": "'Test' object has no attribute '_age'",
     "output_type": "error",
     "traceback": [
      "\u001b[0;31m---------------------------------------------------------------------------\u001b[0m",
      "\u001b[0;31mAttributeError\u001b[0m                            Traceback (most recent call last)",
      "\u001b[0;32m<ipython-input-45-1dbe86f101a7>\u001b[0m in \u001b[0;36m<module>\u001b[0;34m\u001b[0m\n\u001b[1;32m      1\u001b[0m \u001b[0;32mdel\u001b[0m \u001b[0ma\u001b[0m\u001b[0;34m.\u001b[0m\u001b[0mage\u001b[0m\u001b[0;34m\u001b[0m\u001b[0;34m\u001b[0m\u001b[0m\n\u001b[0;32m----> 2\u001b[0;31m \u001b[0ma\u001b[0m\u001b[0;34m.\u001b[0m\u001b[0m_age\u001b[0m\u001b[0;34m\u001b[0m\u001b[0;34m\u001b[0m\u001b[0m\n\u001b[0m",
      "\u001b[0;31mAttributeError\u001b[0m: 'Test' object has no attribute '_age'"
     ]
    }
   ],
   "source": [
    "del a.age\n",
    "a._age"
   ]
  },
  {
   "cell_type": "markdown",
   "metadata": {},
   "source": [
    "Свойства позволяют контроллировать доступ к атрибутам объекта      "
   ]
  },
  {
   "cell_type": "code",
   "execution_count": 46,
   "metadata": {},
   "outputs": [
    {
     "name": "stdout",
     "output_type": "stream",
     "text": [
      "20\n"
     ]
    },
    {
     "ename": "AttributeError",
     "evalue": "can't set attribute",
     "output_type": "error",
     "traceback": [
      "\u001b[0;31m---------------------------------------------------------------------------\u001b[0m",
      "\u001b[0;31mAttributeError\u001b[0m                            Traceback (most recent call last)",
      "\u001b[0;32m<ipython-input-46-fcbc6f06e8d6>\u001b[0m in \u001b[0;36m<module>\u001b[0;34m\u001b[0m\n\u001b[1;32m     10\u001b[0m \u001b[0ma\u001b[0m \u001b[0;34m=\u001b[0m \u001b[0mTest\u001b[0m\u001b[0;34m(\u001b[0m\u001b[0;34m)\u001b[0m\u001b[0;34m\u001b[0m\u001b[0;34m\u001b[0m\u001b[0m\n\u001b[1;32m     11\u001b[0m \u001b[0mprint\u001b[0m\u001b[0;34m(\u001b[0m\u001b[0ma\u001b[0m\u001b[0;34m.\u001b[0m\u001b[0mage\u001b[0m\u001b[0;34m)\u001b[0m\u001b[0;34m\u001b[0m\u001b[0;34m\u001b[0m\u001b[0m\n\u001b[0;32m---> 12\u001b[0;31m \u001b[0ma\u001b[0m\u001b[0;34m.\u001b[0m\u001b[0mage\u001b[0m \u001b[0;34m=\u001b[0m \u001b[0;36m25\u001b[0m\u001b[0;34m\u001b[0m\u001b[0;34m\u001b[0m\u001b[0m\n\u001b[0m",
      "\u001b[0;31mAttributeError\u001b[0m: can't set attribute"
     ]
    }
   ],
   "source": [
    "class Test:  \n",
    "    def __init__(self):\n",
    "        self._age = 20\n",
    "        \n",
    "    def get_age(self):\n",
    "        return self._age     \n",
    "    \n",
    "    age = property(get_age, None, None, None)\n",
    "    \n",
    "a = Test()\n",
    "print(a.age)\n",
    "a.age = 25"
   ]
  },
  {
   "cell_type": "markdown",
   "metadata": {},
   "source": [
    "Также очень удобно использовать свойства через декораторы"
   ]
  },
  {
   "cell_type": "code",
   "execution_count": 191,
   "metadata": {},
   "outputs": [
    {
     "name": "stdout",
     "output_type": "stream",
     "text": [
      "15 15\n"
     ]
    }
   ],
   "source": [
    "class Test:\n",
    "    @property\n",
    "    def age(self):\n",
    "        \"\"\"Doc string\"\"\"\n",
    "        return self._age\n",
    "\n",
    "    @age.setter\n",
    "    def age(self, value):\n",
    "        self._age = value\n",
    "        \n",
    "    @age.deleter\n",
    "    def age(self):\n",
    "        del self._age\n",
    "\n",
    "a = Test()\n",
    "a.age = 15\n",
    "print(a.age, a._age)"
   ]
  },
  {
   "cell_type": "markdown",
   "metadata": {},
   "source": [
    "Чуть более реалистичный пример"
   ]
  },
  {
   "cell_type": "code",
   "execution_count": 37,
   "metadata": {},
   "outputs": [
    {
     "name": "stdout",
     "output_type": "stream",
     "text": [
      "0.001 1 1000\n"
     ]
    },
    {
     "data": {
      "text/plain": [
       "5000"
      ]
     },
     "execution_count": 37,
     "metadata": {},
     "output_type": "execute_result"
    }
   ],
   "source": [
    "class Distance:\n",
    "    def __init__(self, distance):\n",
    "        self._distance = distance\n",
    "        \n",
    "    @property\n",
    "    def km(self): return self._distance / 1000\n",
    "\n",
    "    @km.setter\n",
    "    def km(self, value): self._distance = value * 1000\n",
    "    \n",
    "    @property\n",
    "    def mm(self): return self._distance * 1000\n",
    "    \n",
    "    @property\n",
    "    def m(self): return self._distance\n",
    "    \n",
    "d = Distance(1)\n",
    "\n",
    "print(d.km, d.m, d.mm)\n",
    "\n",
    "d.km = 5\n",
    "d.m"
   ]
  },
  {
   "cell_type": "markdown",
   "metadata": {},
   "source": [
    "# Примеры встроенных декораторов\n",
    "\n",
    "> `staticmethod` - объявляет статический метод класса (метод, который не зависит от конкретного экземпляра класса). По сути обычная функция, которая не использует никаких данных из класса, в котором она объявлена. Такой метод можно вызывать как у самого класса, так и у его экземпляров."
   ]
  },
  {
   "cell_type": "code",
   "execution_count": 39,
   "metadata": {},
   "outputs": [
    {
     "name": "stdout",
     "output_type": "stream",
     "text": [
      "False\n",
      "False\n"
     ]
    }
   ],
   "source": [
    "class Test:\n",
    "    @staticmethod\n",
    "    def is_even(n):\n",
    "        return n%2 == 0\n",
    "    \n",
    "print(Test.is_even(15))\n",
    "a = Test()\n",
    "print(a.is_even(15))"
   ]
  },
  {
   "cell_type": "markdown",
   "metadata": {},
   "source": [
    "> `classmethod` - создает метод, который относится к классу, а не к экземпляру. Часто может быть использован, как перегрузка конструктора."
   ]
  },
  {
   "cell_type": "code",
   "execution_count": 198,
   "metadata": {},
   "outputs": [
    {
     "name": "stdout",
     "output_type": "stream",
     "text": [
      "13\n",
      "21\n"
     ]
    }
   ],
   "source": [
    "class Test:\n",
    "    def __init__(self, num):\n",
    "        self.var = num\n",
    "        \n",
    "    @classmethod\n",
    "    def from_string(cls, string):\n",
    "        # обратите внимание, cls - это ссылка на класс, а не на экземпляр\n",
    "        return cls(int(string))\n",
    "    \n",
    "a = Test(13)\n",
    "print(a.var)\n",
    "\n",
    "a = Test.from_string(\"21\")\n",
    "print(a.var)"
   ]
  },
  {
   "cell_type": "markdown",
   "metadata": {},
   "source": [
    "# Домашняя работа\n",
    "\n",
    "## Задача 1\n",
    "\n",
    "Написать декоратор для вывода времени выполнения функции"
   ]
  },
  {
   "cell_type": "code",
   "execution_count": 37,
   "metadata": {},
   "outputs": [
    {
     "name": "stdout",
     "output_type": "stream",
     "text": [
      "(AnyFunction): It takes 1.00123 seconds\n",
      "(AnyFunction): It takes 1.00136\n"
     ]
    },
    {
     "data": {
      "text/plain": [
       "5"
      ]
     },
     "execution_count": 37,
     "metadata": {},
     "output_type": "execute_result"
    }
   ],
   "source": [
    "def timer1(F):\n",
    "    ...\n",
    "\n",
    "class timer2:\n",
    "    ...\n",
    "    \n",
    "@timer1\n",
    "def AnyFunction(t):\n",
    "    import time\n",
    "    time.sleep(t)\n",
    "\n",
    "AnyFunction(1)\n",
    "\n",
    "@timer2\n",
    "def AnyFunction(t):\n",
    "    import time\n",
    "    time.sleep(t)\n",
    "    return 5 \n",
    "\n",
    "AnyFunction(1)"
   ]
  },
  {
   "cell_type": "markdown",
   "metadata": {},
   "source": [
    "# Задача 2\n",
    "\n",
    "Написать класс, который реализует обобщенное хранение целого числа в себе. Добавить свойства, которые позволяют получить хранимое в нем число в десятичной записи, двоичной записи и римской записи. Добавить методы класса, которые позволяют получить экземпляры этого класса из разных форматов записи чисел (from_dec, from_roman и прочее)."
   ]
  },
  {
   "cell_type": "code",
   "execution_count": 35,
   "metadata": {},
   "outputs": [
    {
     "name": "stdout",
     "output_type": "stream",
     "text": [
      "501\n",
      "0b111110101\n",
      "0x1f5\n",
      "DI\n"
     ]
    }
   ],
   "source": [
    "class Number:\n",
    "    ...\n",
    "\n",
    "\n",
    "n = Number(401)\n",
    "n = n + Number(100)\n",
    "\n",
    "# примеры свойств\n",
    "print(n.dec)\n",
    "print(n.bin)\n",
    "print(n.hex)\n",
    "print(n.roman)"
   ]
  }
 ],
 "metadata": {
  "kernelspec": {
   "display_name": "Python 3",
   "language": "python",
   "name": "python3"
  },
  "language_info": {
   "codemirror_mode": {
    "name": "ipython",
    "version": 3
   },
   "file_extension": ".py",
   "mimetype": "text/x-python",
   "name": "python",
   "nbconvert_exporter": "python",
   "pygments_lexer": "ipython3",
   "version": "3.9.7"
  }
 },
 "nbformat": 4,
 "nbformat_minor": 4
}
